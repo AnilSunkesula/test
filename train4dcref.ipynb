{
  "cells": [
    {
      "metadata": {
        "trusted": true
      },
      "cell_type": "code",
      "source": "import azureml.core\nfrom azureml.core import Workspace, Experiment, Run\n\n# check core SDK version number\nprint(\"Azure ML SDK Version: \", azureml.core.VERSION)",
      "execution_count": null,
      "outputs": []
    },
    {
      "metadata": {
        "trusted": true
      },
      "cell_type": "code",
      "source": "ws = Workspace.from_config()\nprint(ws.name, ws.location, ws.resource_group, ws.location, sep = '\\t')",
      "execution_count": null,
      "outputs": []
    },
    {
      "metadata": {
        "trusted": false
      },
      "cell_type": "code",
      "source": "experiment = Experiment(workspace = ws, name = \"train4dc\")",
      "execution_count": 6,
      "outputs": []
    },
    {
      "metadata": {
        "trusted": true
      },
      "cell_type": "code",
      "source": "run = experiment.start_logging()\n\n# import libaries\nfrom sklearn.svm import SVC\nimport pickle\n\n# features - height, width, and shoe size\nX = [[181, 80, 44], [177, 70, 43], [160, 60, 38], [154, 54, 37], [166, 65, 40], [190, 90, 47], [175, 64, 39],\n     [177, 70, 40], [159, 55, 37], [171, 75, 42], [181, 85, 43]]\n\n# category - male | female\nY = ['male', 'male', 'female', 'female', 'male', 'male', 'female', 'female', 'female', 'male', 'male']\n\n# classify the data\nclf = SVC()\nclf = clf.fit(X, Y)\n\n# predict a value & show accuracy\nX_old = [[190, 70, 43]]\nprint('Old Sample:', X_old)\nprint('Predicted value:', clf.predict(X_old))\nprint('Accuracy', clf.score(X,Y))\n\n# create the outputs folder\n# os.makedirs('./outputs', exist_ok=True)\n\n# export model\nprint('Export the model to model.pkl')\nf = open('./model.pkl', 'wb')\npickle.dump(clf, f)\nf.close()\n\n# import model\nprint('')\nprint('Import the model from model.pkl')\nf2 = open('./model.pkl', 'rb')\nclf2 = pickle.load(f2)\n\n# predict new value\nX_new = [[154, 54, 35]]\nprint('New Sample:', X_new)\nprint('Predicted class:', clf2.predict(X_new))",
      "execution_count": null,
      "outputs": []
    },
    {
      "metadata": {
        "trusted": true
      },
      "cell_type": "code",
      "source": "run",
      "execution_count": null,
      "outputs": []
    },
    {
      "metadata": {
        "trusted": true
      },
      "cell_type": "code",
      "source": "experiment",
      "execution_count": null,
      "outputs": []
    },
    {
      "metadata": {
        "trusted": false
      },
      "cell_type": "code",
      "source": "run.complete()",
      "execution_count": null,
      "outputs": []
    }
  ],
  "metadata": {
    "kernelspec": {
      "name": "python3",
      "display_name": "Python 3",
      "language": "python"
    },
    "language_info": {
      "mimetype": "text/x-python",
      "nbconvert_exporter": "python",
      "name": "python",
      "file_extension": ".py",
      "version": "3.5.4",
      "pygments_lexer": "ipython3",
      "codemirror_mode": {
        "version": 3,
        "name": "ipython"
      }
    }
  },
  "nbformat": 4,
  "nbformat_minor": 2
}