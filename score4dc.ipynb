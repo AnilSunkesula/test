{
  "cells": [
    {
      "metadata": {
        "collapsed": true,
        "trusted": false
      },
      "cell_type": "code",
      "source": "!pip install azureml.webservice-schema",
      "execution_count": null,
      "outputs": []
    },
    {
      "metadata": {
        "trusted": true
      },
      "cell_type": "code",
      "source": "import azureml.core\nfrom azureml.core import Workspace, Experiment, Run\n\n# check core SDK version number\nprint(\"Azure ML SDK Version: \", azureml.core.VERSION)",
      "execution_count": null,
      "outputs": []
    },
    {
      "metadata": {
        "trusted": true
      },
      "cell_type": "code",
      "source": "ws = Workspace.from_config()\nprint(ws.name, ws.location, ws.resource_group, ws.location, sep = '\\t')",
      "execution_count": null,
      "outputs": []
    },
    {
      "metadata": {
        "trusted": true
      },
      "cell_type": "code",
      "source": "experiment = Experiment(workspace = ws, name = \"score4dc\")",
      "execution_count": null,
      "outputs": []
    },
    {
      "metadata": {
        "trusted": true
      },
      "cell_type": "code",
      "source": "runscore4dc = experiment.start_logging()",
      "execution_count": null,
      "outputs": []
    },
    {
      "metadata": {
        "trusted": true
      },
      "cell_type": "code",
      "source": "%%writefile score4dc.py\n# Common modules\nimport os\n#from azureml.datacollector import ModelDataCollector\nfrom azureml.webservice_schema.data_types import DataTypes\nfrom azureml.webservice_schema.schema_generation import generate_schema\nfrom azureml.webservice_schema.sample_definition import SampleDefinition\n#from azureml.api.schema.dataTypes import DataTypes\n#from azureml.api.schema.sampleDefinition import SampleDefinition\n#from azureml.api.realtime.services import generate_schema\n\n\n#\n#  Init routine - Web service\n#\n\ndef init():  \n\n    # Load module\n    from sklearn.externals import joblib\n\n    # Variables\n    global model\n    \n    # Load model\n    model = joblib.load('model.pkl')\n\n\n\n#\n#  Run routine - Web service\n#\n\ndef run(input_str):\n\n    # Load module\n    import json\n\n    # What type of input\n    # print(\"Input_str: type\")\n    # print (type(input_str))\n    # print (\"\")\n    # print(input_str)\n\n    # Convert to dictionary\n    if type(input_str) is str:\n        input = json.loads(input_str)\n    else:\n        input = input_str\n\n    # Fake a prediction\n    prediction = write_msg(input['Id'], input['Timestamp']);\n\n    # Return json\n    return prediction\n\n\n#\n#  Read Input Message Rountine - Read in mod bus sample message\n#\n\ndef read_msg():\n\n    # Load module\n    import json\n\n    # Create some json input\n    in1 = \"\"\n    in1 += '{ '\n    in1 += '\"Id\": 0, '\n    in1 += '\"Timestamp\": \"2018-04-04T22:42:59+00:00\", '\n    in1 += '\"NumberOfPoints\": 400, '\n    in1 += '\"MaxLoad\": 19500, '\n    in1 += '\"MinLoad\": 7500, '\n    in1 += '\"StrokeLength\": 1200, '\n    in1 += '\"StrokePeriod\": 150, '\n    in1 += '\"CardType\": 0, '\n    in1 += '\"CardPoints\": [{ '\n    in1 += '  \"Load\": 11744, '\n    in1 += '  \"Position\": 145 }]'\n    in1 += '} '\n\n    # Return sample message\n    return json.loads(in1)\n\n\n#\n#  Number 2 Class Rountine - Classify the anomaly.\n#\n\ndef number_to_class(argument):\n    switcher = {\n        1: \"Full Pump\",\n        2: \"Flowing Well, Rod Part, Inoperative Pump\",\n        3: \"Bent Barrel, Sticking Pump\",\n        4: \"Pump Hitting Up or Down\",\n        5: \"Fluid Friction\",\n        6: \"Gas Interference\",\n        7: \"Drag Friction\",\n        8: \"Tube Movement\",\n        9: \"Worn or Split Barrel\",\n        10: \"Fluid Pound\",\n        11: \"Worn Standing Value\",\n        12: \"Worn Plunger or Traveling Value\"\n    };\n    return switcher.get(argument, \"Undefined\");\n\n\n#\n#  Write Output Message Rountine - Randomly classify the data.\n#\n\ndef write_msg(id, stamp):\n\n    # Load module\n    import json\n    import random;\n\n    # Five percent left tail\n    occurs = 95\n\n    # Grab a number 1.0 to 100.0\n    pct1 = random.uniform(1, 100);\n\n    # Create some json output\n    out1 = \"\"\n    out1 += '{ \"Id\": \"' + str(id) + '\", '\n    out1 += '\"Timestamp\": \"'+ stamp + '\", '\n\n    # Report a anomaly?\n    if (pct1 >= occurs):\n        out1 += '\"Anomaly\": \"True\", '\n    else:\n        out1 += '\"Anomaly\": \"False\", \"Class\": \"Full Pump\" }'\n\n    # Choose random issue\n    if (pct1 >= occurs):\n        pct2 = int(random.uniform(1, 12)) + 1;\n        out1 += '\"Class\": \"' + number_to_class(pct2) + '\" }'\n\n    # Return sample message\n    return json.loads(out1)\n\n\n#\n#  Main routine - Test init() & run()\n#\n\ndef main():\n\n    # Turn on data collection debug mode to view output in stdout\n    os.environ[\"AML_MODEL_DC_DEBUG\"] = 'true';\n    os.environ[\"AML_MODEL_DC_STORAGE_ENABLED\"] = 'true';\n\n    # create the outputs folder\n    os.makedirs('./outputs', exist_ok=True);\n\n    # Read in json, mod bus sample msg\n    input_msg = read_msg();\n\n    # Debugging - remove when deploying\n    #print (\" \");\n    #print (\"Input Json:\")\n    #print (input_msg);\n\n    # Test init function\n    init();\n\n    # Write out json, sample response msg\n    output_msg = run(input_msg);\n\n    # Debugging - remove when deploying\n    #print (\" \");\n    #print (\"Output Json:\")\n    print(output_msg);\n\n    # Sample input string\n    input_str = {\"input_str\": SampleDefinition(DataTypes.STANDARD, input_msg)};\n\n    # Generate swagger document for web service\n    generate_schema(run_func=run, inputs=input_str, filepath='./outputs/service_schematest.json');\n\n\n# Call main\nif __name__ == \"__main__\":\n    main()",
      "execution_count": null,
      "outputs": []
    },
    {
      "metadata": {
        "trusted": true
      },
      "cell_type": "code",
      "source": "runscore4dc",
      "execution_count": null,
      "outputs": []
    },
    {
      "metadata": {
        "trusted": true
      },
      "cell_type": "code",
      "source": "experiment",
      "execution_count": null,
      "outputs": []
    },
    {
      "metadata": {
        "trusted": true
      },
      "cell_type": "code",
      "source": "runscore4dc.complete()",
      "execution_count": null,
      "outputs": []
    }
  ],
  "metadata": {
    "kernelspec": {
      "name": "python36",
      "display_name": "Python 3.6",
      "language": "python"
    },
    "language_info": {
      "mimetype": "text/x-python",
      "nbconvert_exporter": "python",
      "name": "python",
      "pygments_lexer": "ipython3",
      "version": "3.6.6",
      "file_extension": ".py",
      "codemirror_mode": {
        "version": 3,
        "name": "ipython"
      }
    }
  },
  "nbformat": 4,
  "nbformat_minor": 2
}