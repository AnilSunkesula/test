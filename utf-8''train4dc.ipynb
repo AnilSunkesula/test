{
  "cells": [
    {
      "metadata": {
        "trusted": true
      },
      "cell_type": "code",
      "source": "import azureml.core\nfrom azureml.core import Workspace, Experiment, Run\n\n# check core SDK version number\nprint(\"Azure ML SDK Version: \", azureml.core.VERSION)",
      "execution_count": 9,
      "outputs": [
        {
          "output_type": "stream",
          "text": "Azure ML SDK Version:  1.0.33\n",
          "name": "stdout"
        }
      ]
    },
    {
      "metadata": {
        "trusted": true
      },
      "cell_type": "code",
      "source": "ws = Workspace.from_config()\nprint(ws.name, ws.location, ws.resource_group, ws.location, sep = '\\t')",
      "execution_count": 2,
      "outputs": [
        {
          "output_type": "stream",
          "text": "Performing interactive authentication. Please follow the instructions on the terminal.\nTo sign in, use a web browser to open the page https://microsoft.com/devicelogin and enter the code F6E5AHX73 to authenticate.\nInteractive authentication successfully completed.\noilndgasml\twestus2\tAS-oilngas-ml\twestus2\n",
          "name": "stdout"
        }
      ]
    },
    {
      "metadata": {
        "trusted": true
      },
      "cell_type": "code",
      "source": "experiment = Experiment(workspace = ws, name = \"train4dc\")",
      "execution_count": 3,
      "outputs": []
    },
    {
      "metadata": {
        "trusted": true
      },
      "cell_type": "code",
      "source": "run = experiment.start_logging()",
      "execution_count": 4,
      "outputs": []
    },
    {
      "metadata": {
        "trusted": true
      },
      "cell_type": "code",
      "source": "# import libaries\nfrom sklearn.svm import SVC\nimport pickle\n\n# features - height, width, and shoe size\nX = [[181, 80, 44], [177, 70, 43], [160, 60, 38], [154, 54, 37], [166, 65, 40], [190, 90, 47], [175, 64, 39],\n     [177, 70, 40], [159, 55, 37], [171, 75, 42], [181, 85, 43]]\n\n# category - male | female\nY = ['male', 'male', 'female', 'female', 'male', 'male', 'female', 'female', 'female', 'male', 'male']\n\n# classify the data\nclf = SVC()\nclf = clf.fit(X, Y)\n\n# predict a value & show accuracy\nX_old = [[190, 70, 43]]\nprint('Old Sample:', X_old)\nprint('Predicted value:', clf.predict(X_old))\nprint('Accuracy', clf.score(X,Y))\n\n# create the outputs folder\n# os.makedirs('./outputs', exist_ok=True)\n\n# export model\nprint('Export the model to model.pkl')\nf = open('./model.pkl', 'wb')\npickle.dump(clf, f)\nf.close()\n\n# import model\nprint('')\nprint('Import the model from model.pkl')\nf2 = open('./model.pkl', 'rb')\nclf2 = pickle.load(f2)\n\n# predict new value\nX_new = [[154, 54, 35]]\nprint('New Sample:', X_new)\nprint('Predicted class:', clf2.predict(X_new))",
      "execution_count": 5,
      "outputs": [
        {
          "output_type": "stream",
          "text": "Old Sample: [[190, 70, 43]]\nPredicted value: ['male']\nAccuracy 1.0\nExport the model to model.pkl\n\nImport the model from model.pkl\nNew Sample: [[154, 54, 35]]\nPredicted class: ['female']\n",
          "name": "stdout"
        },
        {
          "output_type": "stream",
          "text": "/home/nbuser/anaconda3_501/lib/python3.6/site-packages/sklearn/svm/base.py:196: FutureWarning: The default value of gamma will change from 'auto' to 'scale' in version 0.22 to account better for unscaled features. Set gamma explicitly to 'auto' or 'scale' to avoid this warning.\n  \"avoid this warning.\", FutureWarning)\n",
          "name": "stderr"
        }
      ]
    },
    {
      "metadata": {
        "trusted": true
      },
      "cell_type": "code",
      "source": "run",
      "execution_count": 6,
      "outputs": [
        {
          "output_type": "execute_result",
          "execution_count": 6,
          "data": {
            "text/html": "<table style=\"width:100%\"><tr><th>Experiment</th><th>Id</th><th>Type</th><th>Status</th><th>Details Page</th><th>Docs Page</th></tr><tr><td>train4dc</td><td>9a7bd04d-65b1-4d9f-a721-9677cc95ce86</td><td></td><td>NotStarted</td><td><a href=\"https://mlworkspace.azure.ai/portal/subscriptions/05246c69-ed30-4fc2-85fb-179dc5d23979/resourceGroups/AS-oilngas-ml/providers/Microsoft.MachineLearningServices/workspaces/oilndgasml/experiments/train4dc/runs/9a7bd04d-65b1-4d9f-a721-9677cc95ce86\" target=\"_blank\" rel=\"noopener\">Link to Azure Portal</a></td><td><a href=\"https://docs.microsoft.com/en-us/python/api/azureml-core/azureml.core.run.Run?view=azure-ml-py\" target=\"_blank\" rel=\"noopener\">Link to Documentation</a></td></tr></table>",
            "text/plain": "Run(Experiment: train4dc,\nId: 9a7bd04d-65b1-4d9f-a721-9677cc95ce86,\nType: None,\nStatus: NotStarted)"
          },
          "metadata": {}
        }
      ]
    },
    {
      "metadata": {
        "trusted": true
      },
      "cell_type": "code",
      "source": "experiment",
      "execution_count": 7,
      "outputs": [
        {
          "output_type": "execute_result",
          "execution_count": 7,
          "data": {
            "text/html": "<table style=\"width:100%\"><tr><th>Name</th><th>Workspace</th><th>Report Page</th><th>Docs Page</th></tr><tr><td>train4dc</td><td>oilndgasml</td><td><a href=\"https://mlworkspace.azure.ai/portal/subscriptions/05246c69-ed30-4fc2-85fb-179dc5d23979/resourceGroups/AS-oilngas-ml/providers/Microsoft.MachineLearningServices/workspaces/oilndgasml/experiments/train4dc\" target=\"_blank\" rel=\"noopener\">Link to Azure Portal</a></td><td><a href=\"https://docs.microsoft.com/en-us/python/api/azureml-core/azureml.core.experiment.Experiment?view=azure-ml-py\" target=\"_blank\" rel=\"noopener\">Link to Documentation</a></td></tr></table>",
            "text/plain": "Experiment(Name: train4dc,\nWorkspace: oilndgasml)"
          },
          "metadata": {}
        }
      ]
    },
    {
      "metadata": {
        "trusted": true
      },
      "cell_type": "code",
      "source": "run.complete()",
      "execution_count": 8,
      "outputs": []
    },
    {
      "metadata": {
        "trusted": true
      },
      "cell_type": "code",
      "source": "",
      "execution_count": null,
      "outputs": []
    }
  ],
  "metadata": {
    "kernelspec": {
      "name": "python36",
      "display_name": "Python 3.6",
      "language": "python"
    },
    "language_info": {
      "mimetype": "text/x-python",
      "nbconvert_exporter": "python",
      "name": "python",
      "pygments_lexer": "ipython3",
      "version": "3.6.6",
      "file_extension": ".py",
      "codemirror_mode": {
        "version": 3,
        "name": "ipython"
      }
    }
  },
  "nbformat": 4,
  "nbformat_minor": 2
}